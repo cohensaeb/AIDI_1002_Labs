{
  "nbformat": 4,
  "nbformat_minor": 0,
  "metadata": {
    "colab": {
      "provenance": [],
      "collapsed_sections": []
    },
    "kernelspec": {
      "name": "python3",
      "display_name": "Python 3"
    },
    "language_info": {
      "name": "python"
    }
  },
  "cells": [
    {
      "cell_type": "markdown",
      "source": [
        "Write a python function that takes the dimension (n) of a square and a character (s) (e.g., ‘x’, ‘o’, ‘*’ etc.) as inputs, and prints to screen a corresponding shape that consists of the inputed character, which has the shape given in Figure 1 (a-b-c) depending on the dimension parameter along with the number of times the character s is used in creating this shape. Note that the order of printing is important, i.e., in the first line count value should be printed, and the shape should follow it as shown below."
      ],
      "metadata": {
        "id": "W-iMbqYizxWD"
      }
    },
    {
      "cell_type": "code",
      "source": [
        "def shape(n, ch):\n",
        "  counter = 0\n",
        "  for row in range(n):\n",
        "    for column in range(n):\n",
        "      if(row==column or row+column==n-1 or column==0 or column==n-1):\n",
        "        print(ch, end=\" \")\n",
        "        counter += 1\n",
        "      else:\n",
        "        print(\" \", end=\" \")\n",
        "    print()\n",
        "  print(counter)"
      ],
      "metadata": {
        "id": "trHdYL2Ef5Ua"
      },
      "execution_count": 44,
      "outputs": []
    },
    {
      "cell_type": "code",
      "source": [
        "shape(5,'*')"
      ],
      "metadata": {
        "colab": {
          "base_uri": "https://localhost:8080/"
        },
        "id": "yZIipN9x0EKd",
        "outputId": "779f6274-e8f1-4f4a-ac92-811735f6826a"
      },
      "execution_count": 47,
      "outputs": [
        {
          "output_type": "stream",
          "name": "stdout",
          "text": [
            "*       * \n",
            "* *   * * \n",
            "*   *   * \n",
            "* *   * * \n",
            "*       * \n",
            "15\n"
          ]
        }
      ]
    },
    {
      "cell_type": "markdown",
      "source": [
        "Create a car class with three attributes: year, mpg, speed and list of owners. The class also should have 2 methods called accelerate and brake. Whenever the car accelerates, its speed is increased by 30 and whenever the car brakes, its speed is reduced by 60.\n",
        "\n",
        "add a constructor to the class, which takes year, mpg, and speed as input\n",
        "implement a magic method that prints the car information including year,speed,and mpg. That is,for a car object, car1=car(2016, 20, 80), print(car) command should print car year 2016 mpg 20 speed 80.\n",
        "Implement a python function that creates two car objects with the specs “car1=car(2016, 20, 80)” and “car2=car(2013, 25, 60)”, and try magic method to print the information of objects of car."
      ],
      "metadata": {
        "id": "FeQdYm4gz7gO"
      }
    },
    {
      "cell_type": "code",
      "source": [
        "class car():\n",
        "  def __init__(self, year, mpg, speed):\n",
        "    self.year = year\n",
        "    self.mpg = mpg\n",
        "    self.speed = speed\n",
        "  \n",
        "  def accelerate(self):\n",
        "    self.speed += 30\n",
        "  \n",
        "  def brake(self):\n",
        "    self.speed -= 60\n",
        "  \n",
        "  def __str__(self):\n",
        "    return(f'year: {self.year}, mpg: {self.mpg}, speed: {self.speed}')"
      ],
      "metadata": {
        "id": "xJmi9KTAz-mM"
      },
      "execution_count": 57,
      "outputs": []
    },
    {
      "cell_type": "code",
      "source": [
        "car1 = car(2016,20,80)\n",
        "car2 = car(2013,25,60)"
      ],
      "metadata": {
        "id": "IGLneQGg-Lc6"
      },
      "execution_count": 59,
      "outputs": []
    },
    {
      "cell_type": "code",
      "source": [
        "car1.accelerate()\n",
        "print(car1)\n",
        "car2.brake()\n",
        "print(car2)"
      ],
      "metadata": {
        "colab": {
          "base_uri": "https://localhost:8080/"
        },
        "id": "cHiyfU7Q-dTb",
        "outputId": "6a797bd0-f30c-4e32-a842-830eac8cc680"
      },
      "execution_count": 60,
      "outputs": [
        {
          "output_type": "stream",
          "name": "stdout",
          "text": [
            "year: 2016, mpg: 20, speed: 110\n",
            "year: 2013, mpg: 25, speed: 0\n"
          ]
        }
      ]
    }
  ]
}