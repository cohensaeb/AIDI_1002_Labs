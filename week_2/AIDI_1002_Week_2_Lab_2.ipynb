{
 "cells": [
  {
   "cell_type": "markdown",
   "metadata": {},
   "source": [
    "### AIDI 1002 Lab2"
   ]
  },
  {
   "cell_type": "markdown",
   "metadata": {},
   "source": [
    "In question one of this lab we are performing text pre-processing for a sample data downloaded from Kaggle. Second question is dedicated to analyzing of time series data"
   ]
  },
  {
   "cell_type": "markdown",
   "metadata": {},
   "source": [
    "#### Question 1"
   ]
  },
  {
   "cell_type": "code",
   "execution_count": 26,
   "metadata": {},
   "outputs": [],
   "source": [
    "# Importing used libraries\n",
    "import pandas as pd\n",
    "import numpy as np\n",
    "import nltk\n",
    "import re"
   ]
  },
  {
   "cell_type": "code",
   "execution_count": 2,
   "metadata": {},
   "outputs": [],
   "source": [
    "# reading the csv file\n",
    "df = pd.read_csv('sample_kaggle_data.csv')"
   ]
  },
  {
   "cell_type": "code",
   "execution_count": 50,
   "metadata": {},
   "outputs": [],
   "source": [
    "# list of functions that are responsible for preprocessing\n",
    "def load_csv(path: str) -> 'dataframe':\n",
    "    '''\n",
    "    This functions loads csv file\n",
    "    input: path to the file\n",
    "    output: pandas dataframe\n",
    "    '''\n",
    "    return pd.read_csv(path)\n",
    "\n",
    "def drop_columns(df: 'dataframe', cols: list) -> 'dataframe':\n",
    "    '''\n",
    "    This funciton remove the columns that are specified\n",
    "    input: cols -> list of columns that will be dropped\n",
    "    output: datafrae\n",
    "    '''\n",
    "    df.drop(columns=cols, inplace=True)\n",
    "\n",
    "# NOTE: This function should only be used if its applicable to your\n",
    "# project. It removes numbers from the text\n",
    "def remove_numbers(df: 'dataframe', col: str) -> 'dataframe':\n",
    "    '''\n",
    "    This function remove numbers from the specified column in\n",
    "    the dataframe\n",
    "    input: df -> dataframe, col: targeted column\n",
    "    output: dataframe\n",
    "    '''\n",
    "    df[col] = df[col].str.replace(r'\\d+', '', regex=True)\n",
    "    return df\n",
    "\n",
    "# NOTE: This function should only be used if its applicable to your\n",
    "# project. It removes punctuations from the text\n",
    "def remove_punctuation(df: 'dataframe', col:str) -> 'dataframe':\n",
    "    '''\n",
    "    This function removes punctuations from the specified colum\n",
    "    input: df -> dataframe, col: column\n",
    "    output: dataframe\n",
    "    '''\n",
    "    df[col] = df[col].str.replace(r'[^\\w\\s]', '', regex=True)\n",
    "    return df\n",
    "\n",
    "def remove_white_space(df: 'dataframe', col:str) -> 'dataframe':\n",
    "    '''\n",
    "    This function removes leading and ending white spaces from a text\n",
    "    input: df -> dataframe, col: column\n",
    "    output: dataframe\n",
    "    '''\n",
    "    df[col] = df[col].str.stri()\n",
    "    return df\n",
    "    \n"
   ]
  },
  {
   "cell_type": "code",
   "execution_count": 47,
   "metadata": {},
   "outputs": [],
   "source": [
    "df1 = load_csv('sample_kaggle_data.csv')"
   ]
  },
  {
   "cell_type": "code",
   "execution_count": 48,
   "metadata": {},
   "outputs": [],
   "source": [
    "drop_columns(df1, ['id','label'])"
   ]
  },
  {
   "cell_type": "code",
   "execution_count": 49,
   "metadata": {},
   "outputs": [],
   "source": [
    "df1 = remove_numbers(df1, 'tweet')"
   ]
  },
  {
   "cell_type": "code",
   "execution_count": 18,
   "metadata": {},
   "outputs": [
    {
     "ename": "NameError",
     "evalue": "name 'self' is not defined",
     "output_type": "error",
     "traceback": [
      "\u001b[0;31m---------------------------------------------------------------------------\u001b[0m",
      "\u001b[0;31mNameError\u001b[0m                                 Traceback (most recent call last)",
      "Cell \u001b[0;32mIn [18], line 1\u001b[0m\n\u001b[0;32m----> 1\u001b[0m \u001b[43mdf1\u001b[49m\u001b[38;5;241;43m.\u001b[39;49m\u001b[43mlower_case\u001b[49m\u001b[43m(\u001b[49m\u001b[38;5;124;43m'\u001b[39;49m\u001b[38;5;124;43mtweet\u001b[39;49m\u001b[38;5;124;43m'\u001b[39;49m\u001b[43m)\u001b[49m\n",
      "Cell \u001b[0;32mIn [15], line 13\u001b[0m, in \u001b[0;36mtext_preprocess.lower_case\u001b[0;34m(col)\u001b[0m\n\u001b[1;32m      8\u001b[0m \u001b[38;5;28;01mdef\u001b[39;00m \u001b[38;5;21mlower_case\u001b[39m(col:\u001b[38;5;28mstr\u001b[39m) \u001b[38;5;241m-\u001b[39m\u001b[38;5;241m>\u001b[39m \u001b[38;5;124m'\u001b[39m\u001b[38;5;124mdataframe\u001b[39m\u001b[38;5;124m'\u001b[39m:\n\u001b[1;32m      9\u001b[0m     \u001b[38;5;124;03m'''changes the specified column in a dataframe to lower case\u001b[39;00m\n\u001b[1;32m     10\u001b[0m \u001b[38;5;124;03m    input: string that specifies the column in the dataframe\u001b[39;00m\n\u001b[1;32m     11\u001b[0m \u001b[38;5;124;03m    output: dataframe\u001b[39;00m\n\u001b[1;32m     12\u001b[0m \u001b[38;5;124;03m    '''\u001b[39;00m\n\u001b[0;32m---> 13\u001b[0m     \u001b[38;5;28mself\u001b[39m\u001b[38;5;241m.\u001b[39mdf[col] \u001b[38;5;241m=\u001b[39m \u001b[38;5;28;43mself\u001b[39;49m\u001b[38;5;241m.\u001b[39mdf[col]\u001b[38;5;241m.\u001b[39mstr\u001b[38;5;241m.\u001b[39mlower()\n",
      "\u001b[0;31mNameError\u001b[0m: name 'self' is not defined"
     ]
    }
   ],
   "source": [
    "df1.lower_case('tweet')"
   ]
  }
 ],
 "metadata": {
  "colab": {
   "provenance": []
  },
  "kernelspec": {
   "display_name": "aidi1002",
   "language": "python",
   "name": "aidi1002"
  },
  "language_info": {
   "codemirror_mode": {
    "name": "ipython",
    "version": 3
   },
   "file_extension": ".py",
   "mimetype": "text/x-python",
   "name": "python",
   "nbconvert_exporter": "python",
   "pygments_lexer": "ipython3",
   "version": "3.8.10"
  }
 },
 "nbformat": 4,
 "nbformat_minor": 4
}
